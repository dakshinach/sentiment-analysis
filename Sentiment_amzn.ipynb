{
 "cells": [
  {
   "cell_type": "code",
   "execution_count": 11,
   "metadata": {},
   "outputs": [],
   "source": [
    "import nltk\n",
    "import pandas as pd"
   ]
  },
  {
   "cell_type": "code",
   "execution_count": 2,
   "metadata": {},
   "outputs": [
    {
     "name": "stderr",
     "output_type": "stream",
     "text": [
      "[nltk_data] Downloading package vader_lexicon to\n",
      "[nltk_data]     C:\\Users\\boykins\\AppData\\Roaming\\nltk_data...\n",
      "[nltk_data]   Package vader_lexicon is already up-to-date!\n"
     ]
    },
    {
     "data": {
      "text/plain": [
       "True"
      ]
     },
     "execution_count": 2,
     "metadata": {},
     "output_type": "execute_result"
    }
   ],
   "source": [
    "nltk.download('vader_lexicon')"
   ]
  },
  {
   "cell_type": "code",
   "execution_count": 3,
   "metadata": {},
   "outputs": [],
   "source": [
    "from nltk.sentiment.vader import SentimentIntensityAnalyzer"
   ]
  },
  {
   "cell_type": "code",
   "execution_count": 4,
   "metadata": {},
   "outputs": [],
   "source": [
    "sid = SentimentIntensityAnalyzer()"
   ]
  },
  {
   "cell_type": "code",
   "execution_count": 17,
   "metadata": {},
   "outputs": [],
   "source": [
    "df = pd.read_csv('amzn_final.csv')"
   ]
  },
  {
   "cell_type": "code",
   "execution_count": 18,
   "metadata": {},
   "outputs": [
    {
     "data": {
      "text/html": [
       "<div>\n",
       "<style scoped>\n",
       "    .dataframe tbody tr th:only-of-type {\n",
       "        vertical-align: middle;\n",
       "    }\n",
       "\n",
       "    .dataframe tbody tr th {\n",
       "        vertical-align: top;\n",
       "    }\n",
       "\n",
       "    .dataframe thead th {\n",
       "        text-align: right;\n",
       "    }\n",
       "</style>\n",
       "<table border=\"1\" class=\"dataframe\">\n",
       "  <thead>\n",
       "    <tr style=\"text-align: right;\">\n",
       "      <th></th>\n",
       "      <th>Unnamed: 0</th>\n",
       "      <th>f_date</th>\n",
       "      <th>company</th>\n",
       "      <th>pct_change</th>\n",
       "      <th>article</th>\n",
       "    </tr>\n",
       "  </thead>\n",
       "  <tbody>\n",
       "    <tr>\n",
       "      <th>0</th>\n",
       "      <td>2</td>\n",
       "      <td>2020-06-20</td>\n",
       "      <td>Amazon.com, Inc. (AMZN)</td>\n",
       "      <td>0.014508</td>\n",
       "      <td>Amazon (NASDAQ:AMZN) will get its start in del...</td>\n",
       "    </tr>\n",
       "    <tr>\n",
       "      <th>1</th>\n",
       "      <td>3</td>\n",
       "      <td>2020-06-18</td>\n",
       "      <td>Amazon.com, Inc. (AMZN)</td>\n",
       "      <td>0.004922</td>\n",
       "      <td>Valentino and Amazon (AMZN +0.1%) have filed a...</td>\n",
       "    </tr>\n",
       "    <tr>\n",
       "      <th>2</th>\n",
       "      <td>4</td>\n",
       "      <td>2020-06-18</td>\n",
       "      <td>Amazon.com, Inc. (AMZN)</td>\n",
       "      <td>0.004922</td>\n",
       "      <td>Amazon (NASDAQ:AMZN) is hiring in South Africa...</td>\n",
       "    </tr>\n",
       "    <tr>\n",
       "      <th>3</th>\n",
       "      <td>6</td>\n",
       "      <td>2020-06-17</td>\n",
       "      <td>Amazon.com, Inc. (AMZN)</td>\n",
       "      <td>0.009831</td>\n",
       "      <td>Citing \"several forms of valuation\" that make ...</td>\n",
       "    </tr>\n",
       "    <tr>\n",
       "      <th>4</th>\n",
       "      <td>8</td>\n",
       "      <td>2020-06-17</td>\n",
       "      <td>Amazon.com, Inc. (AMZN)</td>\n",
       "      <td>0.009831</td>\n",
       "      <td>Starting with its facility in Kent, Washington...</td>\n",
       "    </tr>\n",
       "  </tbody>\n",
       "</table>\n",
       "</div>"
      ],
      "text/plain": [
       "   Unnamed: 0      f_date                  company  pct_change  \\\n",
       "0           2  2020-06-20  Amazon.com, Inc. (AMZN)    0.014508   \n",
       "1           3  2020-06-18  Amazon.com, Inc. (AMZN)    0.004922   \n",
       "2           4  2020-06-18  Amazon.com, Inc. (AMZN)    0.004922   \n",
       "3           6  2020-06-17  Amazon.com, Inc. (AMZN)    0.009831   \n",
       "4           8  2020-06-17  Amazon.com, Inc. (AMZN)    0.009831   \n",
       "\n",
       "                                             article  \n",
       "0  Amazon (NASDAQ:AMZN) will get its start in del...  \n",
       "1  Valentino and Amazon (AMZN +0.1%) have filed a...  \n",
       "2  Amazon (NASDAQ:AMZN) is hiring in South Africa...  \n",
       "3  Citing \"several forms of valuation\" that make ...  \n",
       "4  Starting with its facility in Kent, Washington...  "
      ]
     },
     "execution_count": 18,
     "metadata": {},
     "output_type": "execute_result"
    }
   ],
   "source": [
    "df.head()"
   ]
  },
  {
   "cell_type": "code",
   "execution_count": 19,
   "metadata": {},
   "outputs": [],
   "source": [
    "df['scores'] = df['article'].apply(lambda Review: sid.polarity_scores(Review)['compound'])"
   ]
  },
  {
   "cell_type": "code",
   "execution_count": 20,
   "metadata": {
    "scrolled": true
   },
   "outputs": [
    {
     "data": {
      "text/html": [
       "<div>\n",
       "<style scoped>\n",
       "    .dataframe tbody tr th:only-of-type {\n",
       "        vertical-align: middle;\n",
       "    }\n",
       "\n",
       "    .dataframe tbody tr th {\n",
       "        vertical-align: top;\n",
       "    }\n",
       "\n",
       "    .dataframe thead th {\n",
       "        text-align: right;\n",
       "    }\n",
       "</style>\n",
       "<table border=\"1\" class=\"dataframe\">\n",
       "  <thead>\n",
       "    <tr style=\"text-align: right;\">\n",
       "      <th></th>\n",
       "      <th>Unnamed: 0</th>\n",
       "      <th>f_date</th>\n",
       "      <th>company</th>\n",
       "      <th>pct_change</th>\n",
       "      <th>article</th>\n",
       "      <th>scores</th>\n",
       "    </tr>\n",
       "  </thead>\n",
       "  <tbody>\n",
       "    <tr>\n",
       "      <th>0</th>\n",
       "      <td>2</td>\n",
       "      <td>2020-06-20</td>\n",
       "      <td>Amazon.com, Inc. (AMZN)</td>\n",
       "      <td>0.014508</td>\n",
       "      <td>Amazon (NASDAQ:AMZN) will get its start in del...</td>\n",
       "      <td>0.7506</td>\n",
       "    </tr>\n",
       "    <tr>\n",
       "      <th>1</th>\n",
       "      <td>3</td>\n",
       "      <td>2020-06-18</td>\n",
       "      <td>Amazon.com, Inc. (AMZN)</td>\n",
       "      <td>0.004922</td>\n",
       "      <td>Valentino and Amazon (AMZN +0.1%) have filed a...</td>\n",
       "      <td>0.3919</td>\n",
       "    </tr>\n",
       "    <tr>\n",
       "      <th>2</th>\n",
       "      <td>4</td>\n",
       "      <td>2020-06-18</td>\n",
       "      <td>Amazon.com, Inc. (AMZN)</td>\n",
       "      <td>0.004922</td>\n",
       "      <td>Amazon (NASDAQ:AMZN) is hiring in South Africa...</td>\n",
       "      <td>0.7003</td>\n",
       "    </tr>\n",
       "    <tr>\n",
       "      <th>3</th>\n",
       "      <td>6</td>\n",
       "      <td>2020-06-17</td>\n",
       "      <td>Amazon.com, Inc. (AMZN)</td>\n",
       "      <td>0.009831</td>\n",
       "      <td>Citing \"several forms of valuation\" that make ...</td>\n",
       "      <td>0.9538</td>\n",
       "    </tr>\n",
       "    <tr>\n",
       "      <th>4</th>\n",
       "      <td>8</td>\n",
       "      <td>2020-06-17</td>\n",
       "      <td>Amazon.com, Inc. (AMZN)</td>\n",
       "      <td>0.009831</td>\n",
       "      <td>Starting with its facility in Kent, Washington...</td>\n",
       "      <td>0.8750</td>\n",
       "    </tr>\n",
       "  </tbody>\n",
       "</table>\n",
       "</div>"
      ],
      "text/plain": [
       "   Unnamed: 0      f_date                  company  pct_change  \\\n",
       "0           2  2020-06-20  Amazon.com, Inc. (AMZN)    0.014508   \n",
       "1           3  2020-06-18  Amazon.com, Inc. (AMZN)    0.004922   \n",
       "2           4  2020-06-18  Amazon.com, Inc. (AMZN)    0.004922   \n",
       "3           6  2020-06-17  Amazon.com, Inc. (AMZN)    0.009831   \n",
       "4           8  2020-06-17  Amazon.com, Inc. (AMZN)    0.009831   \n",
       "\n",
       "                                             article  scores  \n",
       "0  Amazon (NASDAQ:AMZN) will get its start in del...  0.7506  \n",
       "1  Valentino and Amazon (AMZN +0.1%) have filed a...  0.3919  \n",
       "2  Amazon (NASDAQ:AMZN) is hiring in South Africa...  0.7003  \n",
       "3  Citing \"several forms of valuation\" that make ...  0.9538  \n",
       "4  Starting with its facility in Kent, Washington...  0.8750  "
      ]
     },
     "execution_count": 20,
     "metadata": {},
     "output_type": "execute_result"
    }
   ],
   "source": [
    "df.head()"
   ]
  },
  {
   "cell_type": "code",
   "execution_count": 27,
   "metadata": {},
   "outputs": [],
   "source": [
    "chart = df[['f_date','pct_change','scores']] # for our chart we only need these columns"
   ]
  },
  {
   "cell_type": "code",
   "execution_count": 32,
   "metadata": {},
   "outputs": [],
   "source": [
    "grouped  = chart.groupby(df['f_date']) # grouping by date to combine days where 2 articles were published"
   ]
  },
  {
   "cell_type": "code",
   "execution_count": 35,
   "metadata": {},
   "outputs": [],
   "source": [
    "g_chart = grouped.mean() "
   ]
  },
  {
   "cell_type": "code",
   "execution_count": 61,
   "metadata": {},
   "outputs": [],
   "source": [
    "g_chart['pct_change'] = g_chart['pct_change']*100 # converting decimal to percenrage"
   ]
  },
  {
   "cell_type": "code",
   "execution_count": 63,
   "metadata": {
    "scrolled": true
   },
   "outputs": [
    {
     "data": {
      "text/plain": [
       "0.04920398772673205"
      ]
     },
     "execution_count": 63,
     "metadata": {},
     "output_type": "execute_result"
    }
   ],
   "source": [
    "g_chart['pct_change'].corr(g_chart['scores']) # to find the correlation"
   ]
  },
  {
   "cell_type": "code",
   "execution_count": 21,
   "metadata": {},
   "outputs": [],
   "source": [
    "import numpy as np\n",
    "import matplotlib.pyplot as plt\n",
    "%matplotlib inline"
   ]
  },
  {
   "cell_type": "code",
   "execution_count": 65,
   "metadata": {},
   "outputs": [],
   "source": [
    "x = g_chart.index\n",
    "y1 = g_chart['scores']\n",
    "y2  = g_chart['pct_change']"
   ]
  },
  {
   "cell_type": "code",
   "execution_count": 70,
   "metadata": {},
   "outputs": [
    {
     "data": {
      "text/plain": [
       "Text(0, 0.5, 'Sentiment Score')"
      ]
     },
     "execution_count": 70,
     "metadata": {},
     "output_type": "execute_result"
    },
    {
     "data": {
      "image/png": "[encoded data removed]",
      "text/plain": [
       "<Figure size 432x288 with 1 Axes>"
      ]
     },
     "metadata": {
      "needs_background": "light"
     },
     "output_type": "display_data"
    }
   ],
   "source": [
    "plt.plot(y2,y1,'o');\n",
    "plt.xlabel('% price change')\n",
    "plt.ylabel('Sentiment Score')"
   ]
  },
  {
   "cell_type": "code",
   "execution_count": 68,
   "metadata": {},
   "outputs": [
    {
     "data": {
      "text/plain": [
       "[<matplotlib.lines.Line2D at 0x1f6dff0a438>]"
      ]
     },
     "execution_count": 68,
     "metadata": {},
     "output_type": "execute_result"
    },
    {
     "data": {
      "image/png": "[encoded data removed]",
      "text/plain": [
       "<Figure size 432x288 with 2 Axes>"
      ]
     },
     "metadata": {
      "needs_background": "light"
     },
     "output_type": "display_data"
    }
   ],
   "source": [
    "fig, ax1 = plt.subplots()\n",
    "\n",
    "ax2 = ax1.twinx()\n",
    "ax1.plot(x, y1, 'g-')\n",
    "ax2.plot(x, y2, 'b-')"
   ]
  },
  {
   "cell_type": "code",
   "execution_count": null,
   "metadata": {},
   "outputs": [],
   "source": []
  }
 ],
 "metadata": {
  "kernelspec": {
   "display_name": "Python 3",
   "language": "python",
   "name": "python3"
  },
  "language_info": {
   "codemirror_mode": {
    "name": "ipython",
    "version": 3
   },
   "file_extension": ".py",
   "mimetype": "text/x-python",
   "name": "python",
   "nbconvert_exporter": "python",
   "pygments_lexer": "ipython3",
   "version": "3.7.1"
  }
 },
 "nbformat": 4,
 "nbformat_minor": 2
}
